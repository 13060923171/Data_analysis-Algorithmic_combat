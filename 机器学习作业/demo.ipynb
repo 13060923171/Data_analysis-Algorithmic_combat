{
 "cells": [
  {
   "cell_type": "code",
   "execution_count": 1,
   "id": "fbda9459",
   "metadata": {},
   "outputs": [],
   "source": [
    "import pandas as pd\n",
    "import warnings\n",
    "warnings.filterwarnings('ignore')"
   ]
  },
  {
   "cell_type": "code",
   "execution_count": 2,
   "id": "bcc02db7",
   "metadata": {},
   "outputs": [
    {
     "data": {
      "text/html": [
       "<div>\n",
       "<style scoped>\n",
       "    .dataframe tbody tr th:only-of-type {\n",
       "        vertical-align: middle;\n",
       "    }\n",
       "\n",
       "    .dataframe tbody tr th {\n",
       "        vertical-align: top;\n",
       "    }\n",
       "\n",
       "    .dataframe thead th {\n",
       "        text-align: right;\n",
       "    }\n",
       "</style>\n",
       "<table border=\"1\" class=\"dataframe\">\n",
       "  <thead>\n",
       "    <tr style=\"text-align: right;\">\n",
       "      <th></th>\n",
       "      <th>word_freq_make:</th>\n",
       "      <th>word_freq_address:</th>\n",
       "      <th>word_freq_all:</th>\n",
       "      <th>word_freq_3d:</th>\n",
       "      <th>word_freq_our:</th>\n",
       "      <th>word_freq_over:</th>\n",
       "      <th>word_freq_remove:</th>\n",
       "      <th>word_freq_internet:</th>\n",
       "      <th>word_freq_order:</th>\n",
       "      <th>word_freq_mail:</th>\n",
       "      <th>...</th>\n",
       "      <th>char_freq_;:</th>\n",
       "      <th>char_freq_(:</th>\n",
       "      <th>char_freq_[:</th>\n",
       "      <th>char_freq_!:</th>\n",
       "      <th>char_freq_$:</th>\n",
       "      <th>char_freq_#:</th>\n",
       "      <th>capital_run_length_average:</th>\n",
       "      <th>capital_run_length_longest:</th>\n",
       "      <th>capital_run_length_total:</th>\n",
       "      <th>spam</th>\n",
       "    </tr>\n",
       "  </thead>\n",
       "  <tbody>\n",
       "    <tr>\n",
       "      <th>0</th>\n",
       "      <td>0.00</td>\n",
       "      <td>0.64</td>\n",
       "      <td>0.64</td>\n",
       "      <td>0.0</td>\n",
       "      <td>0.32</td>\n",
       "      <td>0.00</td>\n",
       "      <td>0.00</td>\n",
       "      <td>0.00</td>\n",
       "      <td>0.00</td>\n",
       "      <td>0.00</td>\n",
       "      <td>...</td>\n",
       "      <td>0.00</td>\n",
       "      <td>0.000</td>\n",
       "      <td>0.0</td>\n",
       "      <td>0.778</td>\n",
       "      <td>0.000</td>\n",
       "      <td>0.000</td>\n",
       "      <td>3.756</td>\n",
       "      <td>61</td>\n",
       "      <td>278</td>\n",
       "      <td>1</td>\n",
       "    </tr>\n",
       "    <tr>\n",
       "      <th>1</th>\n",
       "      <td>0.21</td>\n",
       "      <td>0.28</td>\n",
       "      <td>0.50</td>\n",
       "      <td>0.0</td>\n",
       "      <td>0.14</td>\n",
       "      <td>0.28</td>\n",
       "      <td>0.21</td>\n",
       "      <td>0.07</td>\n",
       "      <td>0.00</td>\n",
       "      <td>0.94</td>\n",
       "      <td>...</td>\n",
       "      <td>0.00</td>\n",
       "      <td>0.132</td>\n",
       "      <td>0.0</td>\n",
       "      <td>0.372</td>\n",
       "      <td>0.180</td>\n",
       "      <td>0.048</td>\n",
       "      <td>5.114</td>\n",
       "      <td>101</td>\n",
       "      <td>1028</td>\n",
       "      <td>1</td>\n",
       "    </tr>\n",
       "    <tr>\n",
       "      <th>2</th>\n",
       "      <td>0.06</td>\n",
       "      <td>0.00</td>\n",
       "      <td>0.71</td>\n",
       "      <td>0.0</td>\n",
       "      <td>1.23</td>\n",
       "      <td>0.19</td>\n",
       "      <td>0.19</td>\n",
       "      <td>0.12</td>\n",
       "      <td>0.64</td>\n",
       "      <td>0.25</td>\n",
       "      <td>...</td>\n",
       "      <td>0.01</td>\n",
       "      <td>0.143</td>\n",
       "      <td>0.0</td>\n",
       "      <td>0.276</td>\n",
       "      <td>0.184</td>\n",
       "      <td>0.010</td>\n",
       "      <td>9.821</td>\n",
       "      <td>485</td>\n",
       "      <td>2259</td>\n",
       "      <td>1</td>\n",
       "    </tr>\n",
       "    <tr>\n",
       "      <th>3</th>\n",
       "      <td>0.00</td>\n",
       "      <td>0.00</td>\n",
       "      <td>0.00</td>\n",
       "      <td>0.0</td>\n",
       "      <td>0.63</td>\n",
       "      <td>0.00</td>\n",
       "      <td>0.31</td>\n",
       "      <td>0.63</td>\n",
       "      <td>0.31</td>\n",
       "      <td>0.63</td>\n",
       "      <td>...</td>\n",
       "      <td>0.00</td>\n",
       "      <td>0.137</td>\n",
       "      <td>0.0</td>\n",
       "      <td>0.137</td>\n",
       "      <td>0.000</td>\n",
       "      <td>0.000</td>\n",
       "      <td>3.537</td>\n",
       "      <td>40</td>\n",
       "      <td>191</td>\n",
       "      <td>1</td>\n",
       "    </tr>\n",
       "    <tr>\n",
       "      <th>4</th>\n",
       "      <td>0.00</td>\n",
       "      <td>0.00</td>\n",
       "      <td>0.00</td>\n",
       "      <td>0.0</td>\n",
       "      <td>0.63</td>\n",
       "      <td>0.00</td>\n",
       "      <td>0.31</td>\n",
       "      <td>0.63</td>\n",
       "      <td>0.31</td>\n",
       "      <td>0.63</td>\n",
       "      <td>...</td>\n",
       "      <td>0.00</td>\n",
       "      <td>0.135</td>\n",
       "      <td>0.0</td>\n",
       "      <td>0.135</td>\n",
       "      <td>0.000</td>\n",
       "      <td>0.000</td>\n",
       "      <td>3.537</td>\n",
       "      <td>40</td>\n",
       "      <td>191</td>\n",
       "      <td>1</td>\n",
       "    </tr>\n",
       "    <tr>\n",
       "      <th>5</th>\n",
       "      <td>0.00</td>\n",
       "      <td>0.00</td>\n",
       "      <td>0.00</td>\n",
       "      <td>0.0</td>\n",
       "      <td>1.85</td>\n",
       "      <td>0.00</td>\n",
       "      <td>0.00</td>\n",
       "      <td>1.85</td>\n",
       "      <td>0.00</td>\n",
       "      <td>0.00</td>\n",
       "      <td>...</td>\n",
       "      <td>0.00</td>\n",
       "      <td>0.223</td>\n",
       "      <td>0.0</td>\n",
       "      <td>0.000</td>\n",
       "      <td>0.000</td>\n",
       "      <td>0.000</td>\n",
       "      <td>3.000</td>\n",
       "      <td>15</td>\n",
       "      <td>54</td>\n",
       "      <td>1</td>\n",
       "    </tr>\n",
       "  </tbody>\n",
       "</table>\n",
       "<p>6 rows × 58 columns</p>\n",
       "</div>"
      ],
      "text/plain": [
       "   word_freq_make:  word_freq_address:  word_freq_all:  word_freq_3d:  \\\n",
       "0             0.00                0.64            0.64            0.0   \n",
       "1             0.21                0.28            0.50            0.0   \n",
       "2             0.06                0.00            0.71            0.0   \n",
       "3             0.00                0.00            0.00            0.0   \n",
       "4             0.00                0.00            0.00            0.0   \n",
       "5             0.00                0.00            0.00            0.0   \n",
       "\n",
       "   word_freq_our:  word_freq_over:  word_freq_remove:  word_freq_internet:  \\\n",
       "0            0.32             0.00               0.00                 0.00   \n",
       "1            0.14             0.28               0.21                 0.07   \n",
       "2            1.23             0.19               0.19                 0.12   \n",
       "3            0.63             0.00               0.31                 0.63   \n",
       "4            0.63             0.00               0.31                 0.63   \n",
       "5            1.85             0.00               0.00                 1.85   \n",
       "\n",
       "   word_freq_order:  word_freq_mail:  ...  char_freq_;:  char_freq_(:  \\\n",
       "0              0.00             0.00  ...          0.00         0.000   \n",
       "1              0.00             0.94  ...          0.00         0.132   \n",
       "2              0.64             0.25  ...          0.01         0.143   \n",
       "3              0.31             0.63  ...          0.00         0.137   \n",
       "4              0.31             0.63  ...          0.00         0.135   \n",
       "5              0.00             0.00  ...          0.00         0.223   \n",
       "\n",
       "   char_freq_[:  char_freq_!:  char_freq_$:  char_freq_#:  \\\n",
       "0           0.0         0.778         0.000         0.000   \n",
       "1           0.0         0.372         0.180         0.048   \n",
       "2           0.0         0.276         0.184         0.010   \n",
       "3           0.0         0.137         0.000         0.000   \n",
       "4           0.0         0.135         0.000         0.000   \n",
       "5           0.0         0.000         0.000         0.000   \n",
       "\n",
       "   capital_run_length_average:  capital_run_length_longest:  \\\n",
       "0                        3.756                           61   \n",
       "1                        5.114                          101   \n",
       "2                        9.821                          485   \n",
       "3                        3.537                           40   \n",
       "4                        3.537                           40   \n",
       "5                        3.000                           15   \n",
       "\n",
       "   capital_run_length_total:  spam  \n",
       "0                        278     1  \n",
       "1                       1028     1  \n",
       "2                       2259     1  \n",
       "3                        191     1  \n",
       "4                        191     1  \n",
       "5                         54     1  \n",
       "\n",
       "[6 rows x 58 columns]"
      ]
     },
     "execution_count": 2,
     "metadata": {},
     "output_type": "execute_result"
    }
   ],
   "source": [
    "df = pd.read_csv('spam_dataset.csv')\n",
    "df.head(6)"
   ]
  },
  {
   "cell_type": "code",
   "execution_count": 3,
   "id": "65ab407b",
   "metadata": {},
   "outputs": [
    {
     "data": {
      "text/plain": [
       "['word_freq_make:',\n",
       " 'word_freq_address:',\n",
       " 'word_freq_all:',\n",
       " 'word_freq_3d:',\n",
       " 'word_freq_our:',\n",
       " 'word_freq_over:',\n",
       " 'word_freq_remove:',\n",
       " 'word_freq_internet:',\n",
       " 'word_freq_order:',\n",
       " 'word_freq_mail:',\n",
       " 'word_freq_receive:',\n",
       " 'word_freq_will:',\n",
       " 'word_freq_people:',\n",
       " 'word_freq_report:',\n",
       " 'word_freq_addresses:',\n",
       " 'word_freq_free:',\n",
       " 'word_freq_business:',\n",
       " 'word_freq_email:',\n",
       " 'word_freq_you:',\n",
       " 'word_freq_credit:',\n",
       " 'word_freq_your:',\n",
       " 'word_freq_font:',\n",
       " 'word_freq_000:',\n",
       " 'word_freq_money:',\n",
       " 'word_freq_hp:',\n",
       " 'word_freq_hpl:',\n",
       " 'word_freq_george:',\n",
       " 'word_freq_650:',\n",
       " 'word_freq_lab:',\n",
       " 'word_freq_labs:',\n",
       " 'word_freq_telnet:',\n",
       " 'word_freq_857:',\n",
       " 'word_freq_data:',\n",
       " 'word_freq_415:',\n",
       " 'word_freq_85:',\n",
       " 'word_freq_technology:',\n",
       " 'word_freq_1999:',\n",
       " 'word_freq_parts:',\n",
       " 'word_freq_pm:',\n",
       " 'word_freq_direct:',\n",
       " 'word_freq_cs:',\n",
       " 'word_freq_meeting:',\n",
       " 'word_freq_original:',\n",
       " 'word_freq_project:',\n",
       " 'word_freq_re:',\n",
       " 'word_freq_edu:',\n",
       " 'word_freq_table:',\n",
       " 'word_freq_conference:',\n",
       " 'char_freq_;:',\n",
       " 'char_freq_(:',\n",
       " 'char_freq_[:',\n",
       " 'char_freq_!:',\n",
       " 'char_freq_$:',\n",
       " 'char_freq_#:',\n",
       " 'capital_run_length_average:',\n",
       " 'capital_run_length_longest:',\n",
       " 'capital_run_length_total:',\n",
       " 'spam']"
      ]
     },
     "execution_count": 3,
     "metadata": {},
     "output_type": "execute_result"
    }
   ],
   "source": [
    "df.columns.values.tolist()"
   ]
  },
  {
   "cell_type": "code",
   "execution_count": 4,
   "id": "77cd8a88",
   "metadata": {},
   "outputs": [],
   "source": [
    "import matplotlib.pyplot as plt\n",
    "import seaborn as sns"
   ]
  },
  {
   "cell_type": "code",
   "execution_count": 15,
   "id": "cf0ee2a8",
   "metadata": {},
   "outputs": [
    {
     "data": {
      "image/png": "[encoded data removed]",
      "text/plain": [
       "<Figure size 720x576 with 2 Axes>"
      ]
     },
     "metadata": {},
     "output_type": "display_data"
    }
   ],
   "source": [
    "# 相关性分析\n",
    "# 数值型数据分析\n",
    "corrmat = df.corr()\n",
    "k = len(corrmat[corrmat['spam'] > 0.25].index)\n",
    "# 获取前k个重要的特征名\n",
    "cols = corrmat.nlargest(k,'spam')['spam'].index.tolist()\n",
    "# 计算该k个特征的相关系数\n",
    "cm = df[cols].corr()\n",
    "# 画出可视化热土\n",
    "plt.figure(figsize=(10,8))\n",
    "sns.heatmap(cm,annot=True,square=True)\n",
    "plt.show()"
   ]
  },
  {
   "cell_type": "markdown",
   "id": "40b20e84",
   "metadata": {},
   "source": [
    "#word_freq_your/word_freq_000/word_freq_remove 这三个自变量是垃圾邮件模型最重要的预测因子，因为这三个的正相关性最高"
   ]
  },
  {
   "cell_type": "code",
   "execution_count": 6,
   "id": "6821910f",
   "metadata": {},
   "outputs": [
    {
     "data": {
      "image/png": "[encoded data removed]",
      "text/plain": [
       "<Figure size 540x540 with 12 Axes>"
      ]
     },
     "metadata": {},
     "output_type": "display_data"
    }
   ],
   "source": [
    "# 特征画多变量图\n",
    "sns.set()\n",
    "area = ['word_freq_you:','word_freq_000:','word_freq_remove:']\n",
    "sns.pairplot(df[area], size = 2.5)\n",
    "plt.show()"
   ]
  },
  {
   "cell_type": "markdown",
   "id": "c0b2c4fe",
   "metadata": {},
   "source": [
    "4、xxxxxxx"
   ]
  },
  {
   "cell_type": "markdown",
   "id": "02ae9b0a",
   "metadata": {},
   "source": [
    "5、xxxxxxxxxx"
   ]
  },
  {
   "cell_type": "markdown",
   "id": "834b63c1",
   "metadata": {},
   "source": [
    "6、xxxxxxxxx"
   ]
  },
  {
   "cell_type": "markdown",
   "id": "b37a028e",
   "metadata": {},
   "source": [
    "7、xxxxxxxx"
   ]
  },
  {
   "cell_type": "code",
   "execution_count": 7,
   "id": "60aa0cfe",
   "metadata": {},
   "outputs": [],
   "source": [
    "from sklearn.datasets import load_boston\n",
    "from sklearn.model_selection import cross_val_score\n",
    "from sklearn.tree import DecisionTreeRegressor\n",
    "from sklearn.feature_extraction import DictVectorizer\n",
    "from sklearn.tree import DecisionTreeClassifier\n",
    "from sklearn.model_selection import train_test_split\n",
    "from sklearn import preprocessing\n",
    "from sklearn.metrics import accuracy_score\n",
    "import numpy as np"
   ]
  },
  {
   "cell_type": "code",
   "execution_count": 8,
   "id": "55872af5",
   "metadata": {},
   "outputs": [],
   "source": [
    "X_train, X_test, y_train, y_test = train_test_split(df[area],df['spam'], random_state=42,test_size=0.3) \n",
    "ss = preprocessing.StandardScaler()\n",
    "train_ss_x = ss.fit_transform(X_train)\n",
    "test_ss_x = ss.transform(X_test)"
   ]
  },
  {
   "cell_type": "code",
   "execution_count": 9,
   "id": "15bf3789",
   "metadata": {},
   "outputs": [
    {
     "name": "stdout",
     "output_type": "stream",
     "text": [
      "决策树 准确率:0.7857\n",
      "决策树 交叉验证准确率 0.8102\n"
     ]
    }
   ],
   "source": [
    "#创建cart分类树 决策树\n",
    "clf = DecisionTreeClassifier(criterion='gini')\n",
    "clf.fit(train_ss_x,y_train) \n",
    "pred_label = clf.predict(test_ss_x)\n",
    "print('决策树 准确率:%0.4lf' % accuracy_score(y_test,pred_label))\n",
    "print('决策树 交叉验证准确率 %.4lf' % np.mean(cross_val_score(clf,train_ss_x,y_train)))"
   ]
  },
  {
   "cell_type": "raw",
   "id": "21be3ba6",
   "metadata": {},
   "source": [
    "#这里我之所以采用基尼系数\n",
    "1、Gini系数是一种与信息熵类似的做特征选择的方式，可以用来数据的不纯度\n",
    "2、因为自变量与因变量的相关性较低，所以采用基尼系数匹配度更高"
   ]
  },
  {
   "cell_type": "code",
   "execution_count": 10,
   "id": "4801e56b",
   "metadata": {},
   "outputs": [
    {
     "name": "stdout",
     "output_type": "stream",
     "text": [
      "随机森林 准确率：0.7857\n",
      "随机森林 交叉验证准确率 0.8099\n"
     ]
    }
   ],
   "source": [
    "#随机森林\n",
    "from sklearn.ensemble import RandomForestClassifier\n",
    "from sklearn import metrics\n",
    "\n",
    "# 创建随机森林分类器 n_estimators随机森林中决策树的个数，n_jobs表示拟合和预测时CPU的核数\n",
    "forest = RandomForestClassifier(n_estimators=1000, n_jobs=-1)\n",
    "#对数据进行分类\n",
    "forest.fit(train_ss_x,y_train)\n",
    "# 用测试集做预测\n",
    "prediction = forest.predict(test_ss_x)\n",
    "print('随机森林 准确率：%0.4lf'%metrics.accuracy_score(prediction,y_test))\n",
    "print('随机森林 交叉验证准确率 %.4lf' % np.mean(cross_val_score(forest,train_ss_x,y_train)))"
   ]
  },
  {
   "cell_type": "markdown",
   "id": "a514f4ec",
   "metadata": {},
   "source": [
    "#要构造一个随机森林模型，第一步是确定森林中数的数目，通过模型的进行调节，n_estimators越大越好，但占用的内存与训练和预测\n",
    "#的时间也会相应增长，且边际效益是递减的，所以要在可承受的内存/时间内选取尽可能大的n_estimators\n",
    "#通过运行时长以及自身电脑的内存，最终选择了1000个n_estimators来作为森林的数目，这样既保证了运行的效率，又有着较高的准确率"
   ]
  },
  {
   "cell_type": "code",
   "execution_count": 11,
   "id": "7b3ea4e0",
   "metadata": {},
   "outputs": [
    {
     "name": "stdout",
     "output_type": "stream",
     "text": [
      "KNN 准确率:0.7922\n",
      "KNN 交叉验证准确率 0.8168\n"
     ]
    }
   ],
   "source": [
    "#KNN \n",
    "from sklearn.neighbors import KNeighborsClassifier\n",
    "\n",
    "knn = KNeighborsClassifier(n_neighbors=5,weights='uniform',algorithm='auto',leaf_size=30)\n",
    "knn.fit(train_ss_x,y_train)\n",
    "predict_y = knn.predict(test_ss_x)\n",
    "print('KNN 准确率:%.4lf' % accuracy_score(y_test,predict_y))\n",
    "print('KNN 交叉验证准确率 %.4lf' % np.mean(cross_val_score(knn,train_ss_x,y_train)))"
   ]
  },
  {
   "cell_type": "markdown",
   "id": "1b33ba3c",
   "metadata": {},
   "source": [
    "#n_neighbors既表示KNN中的K值，代表的是邻居的数量，K值如果比较小，会造成过拟合。如果K值比较大，无法将无知物体分类出来\n",
    "#weights=uniform代表所有邻居的权重相同\n",
    "#weights=distance，代表权重是距离的倒数，既与距离成反比\n",
    "#自定义函数，你可以自定义不同距离所对应的权重。大部分情况下不需要自己定义函数\n",
    "#algorithm用来规定计算邻居的方法\n",
    "#algorithm=auto，根据数据的情况自动选择适合的算法，默认情况选择auto\n",
    "#algorithm=kd_tree也叫KD树，是多维空间的数据结构，方便对关键数据进行检索，不过KD树适用于维度少的情况，一般维数不超过20，如果超过20效率会下降\n",
    "#algorithm=ball_tree也叫球树，它和KD树一样都是多维空间的数据结果，不同于KD树，球树更适用于维度大的情况\n",
    "#algorithm=brute也叫暴力搜索，它和KD树不同的地方在于采用的是线性扫描，而不是通过构造树结构进行快速检索，当训练集大的时候，效率比较低\n",
    "#leaf_size代表构造KD树或者球树的叶子树，默认为30，leaf_size会影响到树的构造和搜索速度"
   ]
  },
  {
   "cell_type": "code",
   "execution_count": 12,
   "id": "5c1f41ab",
   "metadata": {},
   "outputs": [],
   "source": [
    "from sklearn import svm"
   ]
  },
  {
   "cell_type": "code",
   "execution_count": 13,
   "id": "6c854a8c",
   "metadata": {},
   "outputs": [
    {
     "name": "stdout",
     "output_type": "stream",
     "text": [
      "SVM 准确率:0.7922\n",
      "SVM 交叉验证准确率 0.7960\n"
     ]
    }
   ],
   "source": [
    "# 创建SVM分类器\n",
    "model = svm.LinearSVC(C=2.0)\n",
    "# 用训练集做训练\n",
    "model.fit(train_ss_x,y_train)\n",
    "# 用测试集做预测\n",
    "prediction1=model.predict(test_ss_x)\n",
    "print('SVM 准确率:%.4lf' % accuracy_score(y_test,predict_y))\n",
    "print('SVM 交叉验证准确率 %.4lf' % np.mean(cross_val_score(model,train_ss_x,y_train)))"
   ]
  },
  {
   "cell_type": "markdown",
   "id": "4b3ce5cd",
   "metadata": {},
   "source": [
    "#参数C代表目标函数的惩罚系数，惩罚系数指的是分错样本时，惩罚的程度，默认情况下为1.0，当C越大的时候，分类器的准确性越高，容错率越低，泛化能力变差"
   ]
  },
  {
   "cell_type": "markdown",
   "id": "3097cebf",
   "metadata": {},
   "source": [
    "12、从上面4个模型来看，最佳模型是KNN模型，因此用KNN添加新的变量，看看能否提高模型的精度"
   ]
  },
  {
   "cell_type": "code",
   "execution_count": 16,
   "id": "b55a9cef",
   "metadata": {},
   "outputs": [],
   "source": [
    "area1 = ['word_freq_you:','word_freq_000:','word_freq_remove:','char_freq_$:','word_freq_you:','word_freq_free:']\n",
    "X_train, X_test, y_train, y_test = train_test_split(df[area1],df['spam'], random_state=42,test_size=0.3) \n",
    "ss = preprocessing.StandardScaler()\n",
    "train_ss_x = ss.fit_transform(X_train)\n",
    "test_ss_x = ss.transform(X_test)"
   ]
  },
  {
   "cell_type": "code",
   "execution_count": 17,
   "id": "7f01f80c",
   "metadata": {},
   "outputs": [
    {
     "name": "stdout",
     "output_type": "stream",
     "text": [
      "KNN 准确率:0.8566\n",
      "KNN 交叉验证准确率 0.8640\n"
     ]
    }
   ],
   "source": [
    "knn = KNeighborsClassifier(n_neighbors=5,weights='uniform',algorithm='auto',leaf_size=30)\n",
    "knn.fit(train_ss_x,y_train)\n",
    "predict_y = knn.predict(test_ss_x)\n",
    "print('KNN 准确率:%.4lf' % accuracy_score(y_test,predict_y))\n",
    "print('KNN 交叉验证准确率 %.4lf' % np.mean(cross_val_score(knn,train_ss_x,y_train)))"
   ]
  },
  {
   "cell_type": "markdown",
   "id": "292a403a",
   "metadata": {},
   "source": [
    "#精准度得以提高"
   ]
  },
  {
   "cell_type": "markdown",
   "id": "ce97f5e3",
   "metadata": {},
   "source": [
    "13、使用最后6个变量重新运行其他模式"
   ]
  },
  {
   "cell_type": "code",
   "execution_count": 21,
   "id": "d3c7f797",
   "metadata": {},
   "outputs": [],
   "source": [
    "area2 = ['char_freq_!:','char_freq_$:','char_freq_#:','capital_run_length_average:','capital_run_length_longest:','capital_run_length_total:']\n",
    "X_train, X_test, y_train, y_test = train_test_split(df[area2],df['spam'], random_state=42,test_size=0.3) \n",
    "ss = preprocessing.StandardScaler()\n",
    "train_ss_x = ss.fit_transform(X_train)\n",
    "test_ss_x = ss.transform(X_test)"
   ]
  },
  {
   "cell_type": "code",
   "execution_count": 22,
   "id": "be45b1d6",
   "metadata": {},
   "outputs": [
    {
     "name": "stdout",
     "output_type": "stream",
     "text": [
      "决策树 准确率:0.8436\n",
      "决策树 交叉验证准确率 0.8460\n",
      "随机森林 准确率：0.8943\n",
      "随机森林 交叉验证准确率 0.8894\n",
      "KNN 准确率:0.8646\n",
      "KNN 交叉验证准确率 0.8621\n",
      "SVM 准确率:0.8646\n",
      "SVM 交叉验证准确率 0.7898\n"
     ]
    }
   ],
   "source": [
    "clf = DecisionTreeClassifier(criterion='gini')\n",
    "clf.fit(train_ss_x,y_train) \n",
    "pred_label = clf.predict(test_ss_x)\n",
    "print('决策树 准确率:%0.4lf' % accuracy_score(y_test,pred_label))\n",
    "print('决策树 交叉验证准确率 %.4lf' % np.mean(cross_val_score(clf,train_ss_x,y_train)))\n",
    "\n",
    "forest = RandomForestClassifier(n_estimators=1000, n_jobs=-1)\n",
    "forest.fit(train_ss_x,y_train)\n",
    "prediction = forest.predict(test_ss_x)\n",
    "print('随机森林 准确率：%0.4lf'%metrics.accuracy_score(prediction,y_test))\n",
    "print('随机森林 交叉验证准确率 %.4lf' % np.mean(cross_val_score(forest,train_ss_x,y_train)))\n",
    "\n",
    "knn = KNeighborsClassifier(n_neighbors=5,weights='uniform',algorithm='auto',leaf_size=30)\n",
    "knn.fit(train_ss_x,y_train)\n",
    "predict_y = knn.predict(test_ss_x)\n",
    "print('KNN 准确率:%.4lf' % accuracy_score(y_test,predict_y))\n",
    "print('KNN 交叉验证准确率 %.4lf' % np.mean(cross_val_score(knn,train_ss_x,y_train)))\n",
    "\n",
    "model = svm.LinearSVC(C=2.0)\n",
    "model.fit(train_ss_x,y_train)\n",
    "prediction1=model.predict(test_ss_x)\n",
    "print('SVM 准确率:%.4lf' % accuracy_score(y_test,predict_y))\n",
    "print('SVM 交叉验证准确率 %.4lf' % np.mean(cross_val_score(model,train_ss_x,y_train)))"
   ]
  },
  {
   "cell_type": "markdown",
   "id": "d9e751df",
   "metadata": {},
   "source": [
    "13 我最终选择KNN模型作为我的最终模型，因为这个模型，相对来说较为稳定，无论是之前的测试结果，还是最终的测试结果\n",
    "#都有着较好准确率，排名也相对靠前"
   ]
  },
  {
   "cell_type": "markdown",
   "id": "c2dcce4d",
   "metadata": {},
   "source": [
    "14、目前word_freq_business:并不在我的模型中"
   ]
  },
  {
   "cell_type": "code",
   "execution_count": 26,
   "id": "c303be72",
   "metadata": {},
   "outputs": [],
   "source": [
    "area3 = ['word_freq_you:','word_freq_000:','word_freq_remove:','char_freq_$:','word_freq_you:','word_freq_free:','word_freq_business:']\n",
    "X_train, X_test, y_train, y_test = train_test_split(df[area3],df['spam'], random_state=42,test_size=0.3) \n",
    "ss = preprocessing.StandardScaler()\n",
    "train_ss_x = ss.fit_transform(X_train)\n",
    "test_ss_x = ss.transform(X_test)"
   ]
  },
  {
   "cell_type": "code",
   "execution_count": 27,
   "id": "25e2e1e0",
   "metadata": {},
   "outputs": [
    {
     "name": "stdout",
     "output_type": "stream",
     "text": [
      "KNN 准确率:0.8675\n",
      "KNN 交叉验证准确率 0.8755\n"
     ]
    }
   ],
   "source": [
    "knn = KNeighborsClassifier(n_neighbors=5,weights='uniform',algorithm='auto',leaf_size=30)\n",
    "knn.fit(train_ss_x,y_train)\n",
    "predict_y = knn.predict(test_ss_x)\n",
    "print('KNN 准确率:%.4lf' % accuracy_score(y_test,predict_y))\n",
    "print('KNN 交叉验证准确率 %.4lf' % np.mean(cross_val_score(knn,train_ss_x,y_train)))"
   ]
  },
  {
   "cell_type": "markdown",
   "id": "e6dffe29",
   "metadata": {},
   "source": [
    "#如果我新增一个新的变量，将会提高我的准确率，不过提高的空间不是很大"
   ]
  },
  {
   "cell_type": "code",
   "execution_count": null,
   "id": "586da91c",
   "metadata": {},
   "outputs": [],
   "source": []
  }
 ],
 "metadata": {
  "kernelspec": {
   "display_name": "Python 3 (ipykernel)",
   "language": "python",
   "name": "python3"
  },
  "language_info": {
   "codemirror_mode": {
    "name": "ipython",
    "version": 3
   },
   "file_extension": ".py",
   "mimetype": "text/x-python",
   "name": "python",
   "nbconvert_exporter": "python",
   "pygments_lexer": "ipython3",
   "version": "3.9.7"
  }
 },
 "nbformat": 4,
 "nbformat_minor": 5
}
